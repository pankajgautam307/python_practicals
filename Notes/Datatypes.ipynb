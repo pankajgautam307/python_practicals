{
 "cells": [
  {
   "cell_type": "markdown",
   "metadata": {},
   "source": [
    "Python Built-in Data Types: \n",
    "\n",
    "Python provides several built-in data types, which can be classified into different categories. Some of the most commonly used ones include:"
   ]
  },
  {
   "cell_type": "markdown",
   "metadata": {},
   "source": [
    "\n",
    "\n",
    "1. Number Data Type\n",
    "\n",
    "Python provides several built-in numeric data types that are used to represent different types of numbers. The three main numeric data types in Python are:\n",
    "\n",
    "a) Integer (int)\n",
    "\n",
    "b) Floating-point (float)\n",
    "\n",
    "c) Complex (complex)\n",
    "\n",
    "Each of these types serves a different purpose, and Python provides various operations and functions to work with them."
   ]
  },
  {
   "cell_type": "code",
   "execution_count": 69,
   "metadata": {},
   "outputs": [
    {
     "name": "stdout",
     "output_type": "stream",
     "text": [
      "<class 'int'>\n",
      "<class 'float'>\n",
      "<class 'complex'>\n"
     ]
    }
   ],
   "source": [
    "# Integer (int)\n",
    "x = 10  \n",
    "print(type(x))  # Output: <class 'int'>\n",
    "\n",
    "# Float (float)\n",
    "y = 10.5  \n",
    "print(type(y))  # Output: <class 'float'>\n",
    "\n",
    "# Complex (complex)\n",
    "z = 3 + 4j  \n",
    "print(type(z))  # Output: <class 'complex'>"
   ]
  },
  {
   "cell_type": "markdown",
   "metadata": {},
   "source": [
    "a) Integer (int)\n",
    "\n",
    "Definition:\n",
    "\n",
    "An integer is a whole number that can be positive, negative, or zero. It does not have a fractional (decimal) part."
   ]
  },
  {
   "cell_type": "markdown",
   "metadata": {},
   "source": [
    "Example:"
   ]
  },
  {
   "cell_type": "code",
   "execution_count": 70,
   "metadata": {},
   "outputs": [
    {
     "name": "stdout",
     "output_type": "stream",
     "text": [
      "<class 'int'>\n",
      "<class 'int'>\n",
      "<class 'int'>\n"
     ]
    }
   ],
   "source": [
    "x = 10      # Positive integer\n",
    "y = -5      # Negative integer\n",
    "z = 0       # Zero\n",
    "\n",
    "print(type(x))  # Output: <class 'int'>\n",
    "print(type(y))  # Output: <class 'int'>\n",
    "print(type(z))  # Output: <class 'int'>"
   ]
  },
  {
   "cell_type": "markdown",
   "metadata": {},
   "source": [
    "Characteristics:\n",
    "\n",
    "Can be of arbitrary length (limited by system memory).\n",
    "\n",
    "Supports basic arithmetic operations: +, -, *, /, //, %, **.\n",
    "\n",
    "Can be converted to other types (float, complex, str, etc.)."
   ]
  },
  {
   "cell_type": "markdown",
   "metadata": {},
   "source": [
    "Operations with Integers:\n"
   ]
  },
  {
   "cell_type": "code",
   "execution_count": 71,
   "metadata": {},
   "outputs": [
    {
     "name": "stdout",
     "output_type": "stream",
     "text": [
      "13\n",
      "7\n",
      "30\n",
      "3.3333333333333335\n",
      "3\n",
      "1\n",
      "1000\n"
     ]
    }
   ],
   "source": [
    "a = 10\n",
    "b = 3\n",
    "\n",
    "print(a + b)   # Addition: 13\n",
    "print(a - b)   # Subtraction: 7\n",
    "print(a * b)   # Multiplication: 30\n",
    "print(a / b)   # Division (float result): 3.3333\n",
    "print(a // b)  # Floor Division (integer result): 3\n",
    "print(a % b)   # Modulus (remainder): 1\n",
    "print(a ** b)  # Exponentiation (power): 1000"
   ]
  },
  {
   "cell_type": "markdown",
   "metadata": {},
   "source": [
    "b) Floating-Point (float)\n",
    "\n",
    "Definition:\n",
    "\n",
    "A floating-point number (or float) is a number that has a decimal or fractional part. It is used to represent real numbers."
   ]
  },
  {
   "cell_type": "markdown",
   "metadata": {},
   "source": [
    "Example:"
   ]
  },
  {
   "cell_type": "code",
   "execution_count": 72,
   "metadata": {},
   "outputs": [
    {
     "name": "stdout",
     "output_type": "stream",
     "text": [
      "<class 'float'>\n",
      "<class 'float'>\n",
      "<class 'float'>\n"
     ]
    }
   ],
   "source": [
    "x = 10.5   # Positive float\n",
    "y = -3.14  # Negative float\n",
    "z = 0.0    # Zero as a float\n",
    "\n",
    "print(type(x))  # Output: <class 'float'>\n",
    "print(type(y))  # Output: <class 'float'>\n",
    "print(type(z))  # Output: <class 'float'>"
   ]
  },
  {
   "cell_type": "markdown",
   "metadata": {},
   "source": [
    "Characteristics:\n",
    "\n",
    "Supports decimal numbers.\n",
    "\n",
    "Uses double-precision floating point representation (IEEE 754 standard).\n",
    "\n",
    "Can be represented in scientific notation (e or E).\n",
    "\n",
    "Operations are similar to integers."
   ]
  },
  {
   "cell_type": "markdown",
   "metadata": {},
   "source": [
    "Scientific Notation Example:"
   ]
  },
  {
   "cell_type": "code",
   "execution_count": 73,
   "metadata": {},
   "outputs": [
    {
     "name": "stdout",
     "output_type": "stream",
     "text": [
      "3500.0\n",
      "0.012\n"
     ]
    }
   ],
   "source": [
    "a = 3.5e3  # 3.5 * 10^3 = 3500.0\n",
    "b = 1.2E-2 # 1.2 * 10^-2 = 0.012\n",
    "\n",
    "print(a)  # Output: 3500.0\n",
    "print(b)  # Output: 0.012"
   ]
  },
  {
   "cell_type": "markdown",
   "metadata": {},
   "source": [
    "Operations with Floats:"
   ]
  },
  {
   "cell_type": "code",
   "execution_count": 74,
   "metadata": {},
   "outputs": [
    {
     "name": "stdout",
     "output_type": "stream",
     "text": [
      "7.5\n",
      "3.5\n",
      "11.0\n",
      "2.75\n",
      "2.0\n",
      "1.5\n",
      "30.25\n"
     ]
    }
   ],
   "source": [
    "a = 5.5\n",
    "b = 2.0\n",
    "\n",
    "print(a + b)   # 7.5\n",
    "print(a - b)   # 3.5\n",
    "print(a * b)   # 11.0\n",
    "print(a / b)   # 2.75\n",
    "print(a // b)  # 2.0 (Floor Division)\n",
    "print(a % b)   # 1.5 (Modulus)\n",
    "print(a ** b)  # 30.25 (Exponentiation)"
   ]
  },
  {
   "cell_type": "markdown",
   "metadata": {},
   "source": [
    "Rounding and Precision Handling:"
   ]
  },
  {
   "cell_type": "code",
   "execution_count": 75,
   "metadata": {},
   "outputs": [
    {
     "name": "stdout",
     "output_type": "stream",
     "text": [
      "3.14\n"
     ]
    }
   ],
   "source": [
    "x = 3.14159\n",
    "print(round(x,2))  # Output: 3.14"
   ]
  },
  {
   "cell_type": "markdown",
   "metadata": {},
   "source": [
    "c) Complex Numbers (complex)\n",
    "\n",
    "Definition:\n",
    "\n",
    "A complex number consists of a real part and an imaginary part (denoted by j in Python). It is written as a + bj, where:\n",
    "\n",
    "\n",
    "a is the real part (float or int).\n",
    "\n",
    "b is the imaginary part (float or int).\n",
    "\n",
    "j is the imaginary unit (√-1)."
   ]
  },
  {
   "cell_type": "markdown",
   "metadata": {},
   "source": [
    "Example:"
   ]
  },
  {
   "cell_type": "code",
   "execution_count": 76,
   "metadata": {},
   "outputs": [
    {
     "name": "stdout",
     "output_type": "stream",
     "text": [
      "<class 'complex'>\n"
     ]
    }
   ],
   "source": [
    "c1 = 2 + 3j\n",
    "c2 = -1.5 + 4.5j\n",
    "\n",
    "print(type(c1))  # Output: <class 'complex'>"
   ]
  },
  {
   "cell_type": "markdown",
   "metadata": {},
   "source": [
    "Characteristics:\n",
    "\n",
    "Used in scientific computing and engineering.\n",
    "\n",
    "Python provides built-in functions for handling complex numbers.\n"
   ]
  },
  {
   "cell_type": "markdown",
   "metadata": {},
   "source": [
    "Operations with Complex Numbers:"
   ]
  },
  {
   "cell_type": "code",
   "execution_count": 77,
   "metadata": {},
   "outputs": [
    {
     "name": "stdout",
     "output_type": "stream",
     "text": [
      "(3-1j)\n",
      "(1+7j)\n",
      "(14-5j)\n",
      "(-0.5882352941176471+0.6470588235294118j)\n"
     ]
    }
   ],
   "source": [
    "c1 = 2 + 3j\n",
    "c2 = 1 - 4j\n",
    "\n",
    "print(c1 + c2)  # (3 - 1j)\n",
    "print(c1 - c2)  # (1 + 7j)\n",
    "print(c1 * c2)  # (14 - 5j)\n",
    "print(c1 / c2)  # (-0.6470588235294118 + 0.7058823529411765j)"
   ]
  },
  {
   "cell_type": "markdown",
   "metadata": {},
   "source": [
    "Accessing Real and Imaginary Parts:"
   ]
  },
  {
   "cell_type": "code",
   "execution_count": 78,
   "metadata": {},
   "outputs": [
    {
     "name": "stdout",
     "output_type": "stream",
     "text": [
      "4.0\n",
      "5.0\n"
     ]
    }
   ],
   "source": [
    "c = 4 + 5j\n",
    "print(c.real)  # Output: 4.0\n",
    "print(c.imag)  # Output: 5.0"
   ]
  },
  {
   "cell_type": "markdown",
   "metadata": {},
   "source": [
    "Converting Complex to Other Types:"
   ]
  },
  {
   "cell_type": "code",
   "execution_count": 79,
   "metadata": {},
   "outputs": [
    {
     "name": "stdout",
     "output_type": "stream",
     "text": [
      "5.0\n"
     ]
    }
   ],
   "source": [
    "c = 3 + 4j\n",
    "print(abs(c))  # Output: 5.0 (Magnitude of the complex number)"
   ]
  },
  {
   "cell_type": "markdown",
   "metadata": {},
   "source": [
    "Type Conversions Between Numeric Types :\n",
    "\n",
    "\n",
    "Python allows conversion between numeric types using:\n",
    "\n",
    "int()\n",
    "\n",
    "float()\n",
    "\n",
    "complex()"
   ]
  },
  {
   "cell_type": "markdown",
   "metadata": {},
   "source": [
    "Examples:"
   ]
  },
  {
   "cell_type": "code",
   "execution_count": 80,
   "metadata": {},
   "outputs": [
    {
     "name": "stdout",
     "output_type": "stream",
     "text": [
      "10\n",
      "7.0\n",
      "(5+0j)\n",
      "(3.5+0j)\n"
     ]
    }
   ],
   "source": [
    "# Convert float to int\n",
    "x = int(10.99)\n",
    "print(x)  # Output: 10\n",
    "\n",
    "# Convert int to float\n",
    "y = float(7)\n",
    "print(y)  # Output: 7.0\n",
    "\n",
    "# Convert int to complex\n",
    "z = complex(5)\n",
    "print(z)  # Output: (5+0j)\n",
    "\n",
    "# Convert float to complex\n",
    "w = complex(3.5)\n",
    "print(w)  # Output: (3.5+0j)"
   ]
  },
  {
   "cell_type": "markdown",
   "metadata": {},
   "source": [
    "Mathematical Functions in Python\n",
    "\n",
    "Python provides a math module for advanced mathematical operations."
   ]
  },
  {
   "cell_type": "code",
   "execution_count": 81,
   "metadata": {},
   "outputs": [
    {
     "name": "stdout",
     "output_type": "stream",
     "text": [
      "4.0\n",
      "8.0\n",
      "2.302585092994046\n",
      "1.0\n",
      "120\n"
     ]
    }
   ],
   "source": [
    "import math\n",
    "\n",
    "print(math.sqrt(16))   # Square root: 4.0\n",
    "print(math.pow(2, 3))  # Power: 8.0\n",
    "print(math.log(10))    # Natural log: 2.3025\n",
    "print(math.sin(math.pi/2))  # Sine: 1.0\n",
    "print(math.factorial(5))  # Factorial: 120"
   ]
  },
  {
   "cell_type": "markdown",
   "metadata": {},
   "source": [
    "Boolean"
   ]
  },
  {
   "cell_type": "markdown",
   "metadata": {},
   "source": [
    "In Python, bool is a subclass of int, where:\n",
    "\n",
    "\n",
    "True is equivalent to 1\n",
    "\n",
    "False is equivalent to 0"
   ]
  },
  {
   "cell_type": "markdown",
   "metadata": {},
   "source": [
    "Examples:"
   ]
  },
  {
   "cell_type": "code",
   "execution_count": 82,
   "metadata": {},
   "outputs": [
    {
     "name": "stdout",
     "output_type": "stream",
     "text": [
      "11\n",
      "10\n",
      "True\n"
     ]
    }
   ],
   "source": [
    "print(True + 10)  # Output: 11\n",
    "print(False + 10)  # Output: 10\n",
    "print(isinstance(True, int))  # Output: True"
   ]
  },
  {
   "cell_type": "markdown",
   "metadata": {},
   "source": []
  },
  {
   "cell_type": "markdown",
   "metadata": {},
   "source": [
    "\n",
    "\n",
    "2. Sequence Data Types"
   ]
  },
  {
   "cell_type": "markdown",
   "metadata": {},
   "source": [
    "Python provides several built-in sequence data types that store collections of items. A sequence is an ordered collection of elements, where each element can be accessed using an index.\n",
    "\n",
    "\n",
    "Types of Sequence Data Types:\n",
    "\n",
    "List (list) - Mutable sequence of elements.\n",
    "\n",
    "Tuple (tuple) - Immutable sequence of elements.\n",
    "\n",
    "Range (range) - Immutable sequence of numbers.\n",
    "\n",
    "String (str) - Immutable sequence of characters.\n",
    "\n",
    "Let’s explore each of these in detail with examples."
   ]
  },
  {
   "cell_type": "markdown",
   "metadata": {},
   "source": [
    "1. List (list)\n",
    "\n",
    "A list is a mutable (modifiable) ordered collection of elements. It can contain elements of different data types (integers, floats, strings, other lists, etc.)."
   ]
  },
  {
   "cell_type": "markdown",
   "metadata": {},
   "source": [
    "Characteristics of Lists:\n",
    "\n",
    "Ordered (elements maintain the order of insertion).\n",
    "\n",
    "Mutable (can be changed after creation).\n",
    "\n",
    "Supports duplicate elements.\n",
    "\n",
    "Allows different data types in the same list."
   ]
  },
  {
   "cell_type": "markdown",
   "metadata": {},
   "source": [
    "Creating a List:"
   ]
  },
  {
   "cell_type": "code",
   "execution_count": 83,
   "metadata": {},
   "outputs": [
    {
     "name": "stdout",
     "output_type": "stream",
     "text": [
      "[10, 20, 30, 'Python', 3.14]\n",
      "<class 'list'>\n"
     ]
    }
   ],
   "source": [
    "# Creating a list\n",
    "my_list = [10, 20, 30, \"Python\", 3.14]\n",
    "print(my_list)  # Output: [10, 20, 30, 'Python', 3.14]\n",
    "print(type(my_list))  # Output: <class 'list'>"
   ]
  },
  {
   "cell_type": "markdown",
   "metadata": {},
   "source": [
    "Accessing Elements in a List:"
   ]
  },
  {
   "cell_type": "code",
   "execution_count": 84,
   "metadata": {},
   "outputs": [
    {
     "name": "stdout",
     "output_type": "stream",
     "text": [
      "10\n",
      "3.14\n"
     ]
    }
   ],
   "source": [
    "print(my_list[0])  # Output: 10 (First element)\n",
    "print(my_list[-1])  # Output: 3.14 (Last element)"
   ]
  },
  {
   "cell_type": "markdown",
   "metadata": {},
   "source": [
    "Modifying a List:"
   ]
  },
  {
   "cell_type": "code",
   "execution_count": 85,
   "metadata": {},
   "outputs": [
    {
     "name": "stdout",
     "output_type": "stream",
     "text": [
      "[10, 99, 30, 'Python', 3.14]\n"
     ]
    }
   ],
   "source": [
    "my_list[1] = 99  # Changing an element\n",
    "print(my_list)  # Output: [10, 99, 30, 'Python', 3.14]"
   ]
  },
  {
   "cell_type": "markdown",
   "metadata": {},
   "source": [
    "List Operations:"
   ]
  },
  {
   "cell_type": "code",
   "execution_count": 86,
   "metadata": {},
   "outputs": [
    {
     "name": "stdout",
     "output_type": "stream",
     "text": [
      "[10, 99, 30, 'Python', 3.14]\n",
      "[10, 99, 30, 'Python', 3.14]\n",
      "99\n",
      "[99, 30, 'Python']\n",
      "[10, 99, 30, 'Python', 3.14, 10, 99, 30, 'Python', 3.14]\n",
      "False\n",
      "False\n",
      "[10, 30, 'Python', 3.14]\n",
      "[10, 3.14]\n",
      "2\n",
      "[10, 3.14, 59, 67, 'Hi']\n"
     ]
    }
   ],
   "source": [
    "# Adding elements\n",
    "#my_list.append(50)  # Adds to the end\n",
    "#my_list.insert(0,1000)  # Adds to the end\n",
    "print(my_list)  # Output: [10, 99, 30, 'Python', 3.14, 50]\n",
    "\n",
    "# Removing elements\n",
    "#my_list.remove(50)  # Removes 30 from list\n",
    "print(my_list)  # Output: [10, 99, 'Python', 3.14, 50]\n",
    "\n",
    "#indexing\n",
    "print(my_list[1]) # Output: 99\n",
    "\n",
    "\n",
    "# Slicing\n",
    "print(my_list[1:4])  # Output: [99, 'Python', 3.14]\n",
    "\n",
    "# Repetition\n",
    "print(my_list * 2)  # Output: [10, 99, 'Python', 3.14, 50, 10, 99, 'Python', 3.14, 50]\n",
    "\n",
    "# Membership :Membership tests whether an element exists in a sequence using the in or not in operators.\n",
    "\n",
    "print(20 in my_list)   # Output: True (20 is in the list)\n",
    "print(10 not in my_list)  # Output: True (40 is not in the list)\n",
    "\n",
    "# del : The del statement is used to delete items from a sequence (like lists). \n",
    "# It can be used to remove an element at a specific index or to remove a slice of the sequence.\n",
    "\n",
    "del my_list[1]   # Deletes element at index 1 (20)\n",
    "print(my_list)    # Output: [10, 30, 40]\n",
    "\n",
    "del my_list[1:3]  # Deletes elements from index 1 to 2 (30, 40)\n",
    "print(my_list)    # Output: [10]\n",
    "\n",
    "# Checking length\n",
    "print(len(my_list))  # Output: 5\n",
    "\n",
    "#concate\n",
    "list2=[59,67,\"Hi\"]\n",
    "print(my_list + list2)"
   ]
  },
  {
   "cell_type": "markdown",
   "metadata": {},
   "source": [
    "2. Tuple (tuple)\n",
    "\n",
    "A tuple is an immutable (unchangeable) ordered collection of elements. Like lists, tuples can contain elements of different data types."
   ]
  },
  {
   "cell_type": "markdown",
   "metadata": {},
   "source": [
    "Characteristics of Tuples:\n",
    "\n",
    "Ordered (elements maintain insertion order).\n",
    "\n",
    "Immutable (cannot be changed after creation).\n",
    "\n",
    "Supports duplicate elements.\n",
    "\n",
    "More memory-efficient than lists."
   ]
  },
  {
   "cell_type": "markdown",
   "metadata": {},
   "source": [
    "Creating a Tuple:"
   ]
  },
  {
   "cell_type": "code",
   "execution_count": 87,
   "metadata": {},
   "outputs": [
    {
     "name": "stdout",
     "output_type": "stream",
     "text": [
      "(10, 'Python', 3.14)\n",
      "<class 'tuple'>\n"
     ]
    }
   ],
   "source": [
    "# Creating a tuple\n",
    "my_tuple = (10, \"Python\", 3.14)\n",
    "print(my_tuple)  # Output: (10, 'Python', 3.14)\n",
    "print(type(my_tuple))  # Output: <class 'tuple'>"
   ]
  },
  {
   "cell_type": "markdown",
   "metadata": {},
   "source": [
    "Accessing Elements in a Tuple:"
   ]
  },
  {
   "cell_type": "code",
   "execution_count": 88,
   "metadata": {},
   "outputs": [
    {
     "name": "stdout",
     "output_type": "stream",
     "text": [
      "10\n",
      "3.14\n"
     ]
    }
   ],
   "source": [
    "print(my_tuple[0])  # Output: 10\n",
    "print(my_tuple[-1])  # Output: 3.14"
   ]
  },
  {
   "cell_type": "markdown",
   "metadata": {},
   "source": [
    "Tuple Immutability:"
   ]
  },
  {
   "cell_type": "code",
   "execution_count": 89,
   "metadata": {},
   "outputs": [
    {
     "ename": "TypeError",
     "evalue": "'tuple' object does not support item assignment",
     "output_type": "error",
     "traceback": [
      "\u001b[1;31m---------------------------------------------------------------------------\u001b[0m",
      "\u001b[1;31mTypeError\u001b[0m                                 Traceback (most recent call last)",
      "\u001b[1;32m~\\AppData\\Local\\Temp\\ipykernel_16124\\1740845155.py\u001b[0m in \u001b[0;36m<module>\u001b[1;34m\u001b[0m\n\u001b[1;32m----> 1\u001b[1;33m \u001b[0mmy_tuple\u001b[0m\u001b[1;33m[\u001b[0m\u001b[1;36m1\u001b[0m\u001b[1;33m]\u001b[0m \u001b[1;33m=\u001b[0m \u001b[1;36m99\u001b[0m  \u001b[1;31m# This will raise an error: TypeError: 'tuple' object does not support item assignment\u001b[0m\u001b[1;33m\u001b[0m\u001b[1;33m\u001b[0m\u001b[0m\n\u001b[0m",
      "\u001b[1;31mTypeError\u001b[0m: 'tuple' object does not support item assignment"
     ]
    }
   ],
   "source": [
    "my_tuple[1] = 99  # This will raise an error: TypeError: 'tuple' object does not support item assignment"
   ]
  },
  {
   "cell_type": "markdown",
   "metadata": {},
   "source": [
    "Tuple Operations:"
   ]
  },
  {
   "cell_type": "code",
   "execution_count": null,
   "metadata": {},
   "outputs": [
    {
     "ename": "NameError",
     "evalue": "name 'my_tuple' is not defined",
     "output_type": "error",
     "traceback": [
      "\u001b[1;31m---------------------------------------------------------------------------\u001b[0m",
      "\u001b[1;31mNameError\u001b[0m                                 Traceback (most recent call last)",
      "\u001b[1;32m~\\AppData\\Local\\Temp\\ipykernel_10504\\2702595834.py\u001b[0m in \u001b[0;36m<module>\u001b[1;34m\u001b[0m\n\u001b[0;32m      1\u001b[0m \u001b[1;31m# Tuple concatenation\u001b[0m\u001b[1;33m\u001b[0m\u001b[1;33m\u001b[0m\u001b[1;33m\u001b[0m\u001b[0m\n\u001b[1;32m----> 2\u001b[1;33m \u001b[0mnew_tuple\u001b[0m \u001b[1;33m=\u001b[0m \u001b[0mmy_tuple\u001b[0m \u001b[1;33m+\u001b[0m \u001b[1;33m(\u001b[0m\u001b[1;36m100\u001b[0m\u001b[1;33m,\u001b[0m \u001b[1;36m200\u001b[0m\u001b[1;33m)\u001b[0m\u001b[1;33m\u001b[0m\u001b[1;33m\u001b[0m\u001b[0m\n\u001b[0m\u001b[0;32m      3\u001b[0m \u001b[0mprint\u001b[0m\u001b[1;33m(\u001b[0m\u001b[0mnew_tuple\u001b[0m\u001b[1;33m)\u001b[0m  \u001b[1;31m# Output: (10, 'Python', 3.14, 100, 200)\u001b[0m\u001b[1;33m\u001b[0m\u001b[1;33m\u001b[0m\u001b[0m\n\u001b[0;32m      4\u001b[0m \u001b[1;33m\u001b[0m\u001b[0m\n\u001b[0;32m      5\u001b[0m \u001b[1;31m#indexing\u001b[0m\u001b[1;33m\u001b[0m\u001b[1;33m\u001b[0m\u001b[1;33m\u001b[0m\u001b[0m\n",
      "\u001b[1;31mNameError\u001b[0m: name 'my_tuple' is not defined"
     ]
    }
   ],
   "source": [
    "# Tuple concatenation\n",
    "new_tuple = my_tuple + (100, 200)\n",
    "print(new_tuple)  # Output: (10, 'Python', 3.14, 100, 200)\n",
    "\n",
    "#indexing\n",
    "print(new_tuple[1]) # Output: Python\n",
    "\n",
    "\n",
    "# Slicing\n",
    "print(my_tuple[1:4])  # Output: (20, 30, 'Python')\n",
    "\n",
    "# Repetition\n",
    "print(my_tuple * 3)  # Output: (10, 'Python', 3.14, 10, 'Python', 3.14, 10, 'Python', 3.14)\n",
    "\n",
    "# Membership\n",
    "print(10 in my_tuple)  # Output: True (2 is in the tuple)\n",
    "print(5 not in my_tuple)  # Output: True (5 is not in the tuple)\n",
    "\n",
    "# Length of tuple\n",
    "print(len(my_tuple))  # Output: 3\n",
    "\n",
    "# del\n",
    "#del my_tuple[1] #error\n",
    "del my_tuple   #Deletes the entire tuple\n",
    "print(len(my_tuple))"
   ]
  },
  {
   "cell_type": "markdown",
   "metadata": {},
   "source": [
    "Tuple with a Single Element:"
   ]
  },
  {
   "cell_type": "code",
   "execution_count": null,
   "metadata": {},
   "outputs": [
    {
     "name": "stdout",
     "output_type": "stream",
     "text": [
      "<class 'tuple'>\n"
     ]
    }
   ],
   "source": [
    "single_element_tuple = (10,)  # Note the comma! Otherwise, it is treated as an integer.\n",
    "print(type(single_element_tuple))  # Output: <class 'tuple'>"
   ]
  },
  {
   "cell_type": "markdown",
   "metadata": {},
   "source": [
    "3. Range (range)\n",
    "\n",
    "The range type represents an immutable sequence of numbers, commonly used for loops."
   ]
  },
  {
   "cell_type": "markdown",
   "metadata": {},
   "source": [
    "Characteristics of Ranges:\n",
    "\n",
    "Immutable (cannot be changed after creation).\n",
    "\n",
    "Efficient memory usage as numbers are generated on demand.\n",
    "\n",
    "Supports start, stop, and step."
   ]
  },
  {
   "cell_type": "markdown",
   "metadata": {},
   "source": [
    "Creating a Range:"
   ]
  },
  {
   "cell_type": "code",
   "execution_count": null,
   "metadata": {},
   "outputs": [
    {
     "name": "stdout",
     "output_type": "stream",
     "text": [
      "[0, 1, 2, 3, 4]\n",
      "[2, 3, 4, 5, 6, 7, 8, 9]\n",
      "[1, 3, 5, 7, 9]\n"
     ]
    }
   ],
   "source": [
    "# Range from 0 to 4\n",
    "r = range(5)\n",
    "print(list(r))  # Output: [0, 1, 2, 3, 4]\n",
    "\n",
    "# Range with a start and stop\n",
    "r2 = range(2, 10)\n",
    "print(list(r2))  # Output: [2, 3, 4, 5, 6, 7, 8, 9]\n",
    "\n",
    "# Range with step\n",
    "r3 = range(1, 10, 2)  # Step of 2\n",
    "print(list(r3))  # Output: [1, 3, 5, 7, 9]"
   ]
  },
  {
   "cell_type": "markdown",
   "metadata": {},
   "source": [
    "4. String (str)\n",
    "\n",
    "A string is an immutable sequence of characters. Strings are enclosed in single ('), double (\") or triple (''' or \"\"\") quotes."
   ]
  },
  {
   "cell_type": "markdown",
   "metadata": {},
   "source": [
    "Characteristics of Strings:\n",
    "\n",
    "Immutable (cannot be changed after creation).\n",
    "\n",
    "Supports indexing and slicing.\n",
    "\n",
    "Supports string operations like concatenation, repetition, and formatting."
   ]
  },
  {
   "cell_type": "markdown",
   "metadata": {},
   "source": [
    "Creating a String:"
   ]
  },
  {
   "cell_type": "code",
   "execution_count": null,
   "metadata": {},
   "outputs": [
    {
     "name": "stdout",
     "output_type": "stream",
     "text": [
      "Hello, Python!\n",
      "<class 'str'>\n"
     ]
    }
   ],
   "source": [
    "my_string = \"Hello, Python!\"\n",
    "print(my_string)  # Output: Hello, Python!\n",
    "print(type(my_string))  # Output: <class 'str'>"
   ]
  },
  {
   "cell_type": "markdown",
   "metadata": {},
   "source": [
    "Accessing Characters in a String:"
   ]
  },
  {
   "cell_type": "code",
   "execution_count": null,
   "metadata": {},
   "outputs": [
    {
     "name": "stdout",
     "output_type": "stream",
     "text": [
      "H\n",
      "!\n"
     ]
    }
   ],
   "source": [
    "print(my_string[0])  # Output: 'H'\n",
    "print(my_string[-1])  # Output: '!'"
   ]
  },
  {
   "cell_type": "markdown",
   "metadata": {},
   "source": [
    "String Operations:"
   ]
  },
  {
   "cell_type": "code",
   "execution_count": null,
   "metadata": {},
   "outputs": [
    {
     "name": "stdout",
     "output_type": "stream",
     "text": [
      "Hello World\n",
      "HelloHelloHello\n",
      "5\n",
      "Hello\n",
      "Hello\n",
      "Python!\n",
      "True\n",
      "False\n",
      "hello\n",
      "HELLO\n",
      "Hello World\n",
      "Hello Python\n"
     ]
    }
   ],
   "source": [
    "# Concatenation\n",
    "str1 = \"Hello\"\n",
    "str2 = \"World\"\n",
    "print(str1 + \" \" + str2)  # Output: 'Hello World'\n",
    "\n",
    "# Repetition\n",
    "print(str1 * 3)  # Output: 'HelloHelloHello'\n",
    "\n",
    "# Length of string\n",
    "print(len(str1))  # Output: 14\n",
    "\n",
    "#String Slicing:\n",
    "print(my_string[0:5])  # Output: 'Hello'\n",
    "print(my_string[:5])   # Output: 'Hello'\n",
    "print(my_string[7:])   # Output: 'Python!'\n",
    "\n",
    "#Membership\n",
    "print('e' in str1)   # Output: True ('e' is in the string)\n",
    "print('o' not in str1)  # Output: True ('z' is not in the string)\n",
    "\n",
    "# String methods\n",
    "print(str1.lower())  # Output: 'hello'\n",
    "print(str1.upper())  # Output: 'HELLO'\n",
    "str3=str1 + \" \" + str2\n",
    "print(str3)\n",
    "print(str3.replace(\"World\",\"Python\" ))  # Output: 'Hello, World!'"
   ]
  },
  {
   "cell_type": "markdown",
   "metadata": {},
   "source": [
    "\n",
    "Comparison of Sequence Data Types:\n",
    "\n",
    "Data Type\t   Mutability\tOrdered\t  Allows Duplicate Elements\t        Example\n",
    "\n",
    "List (list)\t    Mutable\t    Yes\t                Yes\t                [10, 20, \"Python\"]\n",
    "\n",
    "Tuple (tuple)\tImmutable\tYes\t                Yes\t                (10, 20, \"Python\")\n",
    "\n",
    "Range (range)\tImmutable\tYes\t                No\t                range(5)\n",
    "\n",
    "String (str)\tImmutable\tYes\t                Yes\t                \"Hello, Python!\"\n"
   ]
  },
  {
   "cell_type": "markdown",
   "metadata": {},
   "source": [
    "3. Python Built-in Mapping Data Type: \n",
    "\n",
    "   Dictionary (dict)"
   ]
  },
  {
   "cell_type": "markdown",
   "metadata": {},
   "source": [
    "A dictionary (dict) is a built-in mapping data type in Python that stores key-value pairs. It is one of the most powerful and commonly used data structures in Python. Unlike sequences (lists, tuples, strings), which store values indexed by position, dictionaries store values indexed by keys."
   ]
  },
  {
   "cell_type": "markdown",
   "metadata": {},
   "source": [
    " Characteristics of a Dictionary:\n",
    "\n",
    "Unordered (before Python 3.7) → Since Python 3.7, dictionaries maintain insertion order.\n",
    "\n",
    "Mutable → Can be modified (add, remove, update key-value pairs).\n",
    "\n",
    "Keys must be unique → Duplicate keys are not allowed.\n",
    "\n",
    "Keys must be immutable → Can be int, float, str, tuple (but not list or another dict).\n",
    "\n",
    "Values can be of any data type → Lists, Tuples, Sets, or even another Dictionary.\n"
   ]
  },
  {
   "cell_type": "markdown",
   "metadata": {},
   "source": [
    "Creating a Dictionary:\n",
    "\n",
    "Dictionaries can be created using:\n",
    "\n",
    "    i)  Curly braces {}\n",
    "\n",
    "    ii) The dict() constructor\n",
    "\n",
    "Example 1: Creating a Dictionary"
   ]
  },
  {
   "cell_type": "code",
   "execution_count": null,
   "metadata": {},
   "outputs": [
    {
     "name": "stdout",
     "output_type": "stream",
     "text": [
      "{'name': 'Alice', 'age': 25, 'city': 'New York'}\n",
      "{'name': 'Bob', 'age': 30, 'city': 'London'}\n"
     ]
    }
   ],
   "source": [
    "# Using curly braces\n",
    "my_dict = {\n",
    "    \"name\": \"Alice\",\n",
    "    \"age\": 25,\n",
    "    \"city\": \"New York\"\n",
    "}\n",
    "print(my_dict)\n",
    "# Output: {'name': 'Alice', 'age': 25, 'city': 'New York'}\n",
    "\n",
    "# Using dict() constructor\n",
    "my_dict2 = dict(name=\"Bob\", age=30, city=\"London\")\n",
    "print(my_dict2)\n",
    "# Output: {'name': 'Bob', 'age': 30, 'city': 'London'}"
   ]
  },
  {
   "cell_type": "markdown",
   "metadata": {},
   "source": [
    "Example 2: Dictionary with Different Data Types"
   ]
  },
  {
   "cell_type": "code",
   "execution_count": null,
   "metadata": {},
   "outputs": [
    {
     "name": "stdout",
     "output_type": "stream",
     "text": [
      "{'name': 'John', 'age': 28, 'hobbies': ['reading', 'gaming', 'coding'], 'address': {'city': 'Los Angeles', 'zip': 90001}, 100: 'Numeric Key', (1, 2): 'Tuple as Key'}\n"
     ]
    }
   ],
   "source": [
    "person = {\n",
    "    \"name\": \"John\",\n",
    "    \"age\": 28,\n",
    "    \"hobbies\": [\"reading\", \"gaming\", \"coding\"],  # List inside dictionary\n",
    "    \"address\": {\"city\": \"Los Angeles\", \"zip\": 90001},  # Nested dictionary\n",
    "    100: \"Numeric Key\",\n",
    "    (1, 2): \"Tuple as Key\"  # Tuples are immutable, so they can be keys\n",
    "}\n",
    "print(person)"
   ]
  },
  {
   "cell_type": "markdown",
   "metadata": {},
   "source": [
    "3. Accessing Dictionary Elements\n",
    "\n",
    "You can access values using keys (not indices like lists).\n",
    "\n",
    "\n",
    "Using Square Brackets []"
   ]
  },
  {
   "cell_type": "code",
   "execution_count": null,
   "metadata": {},
   "outputs": [
    {
     "ename": "SyntaxError",
     "evalue": "invalid syntax (3796813808.py, line 3)",
     "output_type": "error",
     "traceback": [
      "\u001b[1;36m  File \u001b[1;32m\"C:\\Users\\Pankaj\\AppData\\Local\\Temp\\ipykernel_10212\\3796813808.py\"\u001b[1;36m, line \u001b[1;32m3\u001b[0m\n\u001b[1;33m    print(person.get(\"salary\")) Output: KeyError\u001b[0m\n\u001b[1;37m                                     ^\u001b[0m\n\u001b[1;31mSyntaxError\u001b[0m\u001b[1;31m:\u001b[0m invalid syntax\n"
     ]
    }
   ],
   "source": [
    "print(person[\"name\"])  # Output: John\n",
    "print(person[\"hobbies\"])  # Output: ['reading', 'gaming', 'coding']\n",
    "print(person.get(\"salary\")) Output: KeyError"
   ]
  },
  {
   "cell_type": "markdown",
   "metadata": {},
   "source": [
    "Using get() Method (Avoids KeyError)"
   ]
  },
  {
   "cell_type": "code",
   "execution_count": null,
   "metadata": {},
   "outputs": [
    {
     "name": "stdout",
     "output_type": "stream",
     "text": [
      "28\n",
      "None\n",
      "Not Found\n"
     ]
    }
   ],
   "source": [
    "print(person.get(\"age\"))  # Output: 28\n",
    "print(person.get(\"salary\"))  # Output: None (instead of error)\n",
    "print(person.get(\"salary\", \"Not Found\"))  # Output: Not Found (default value)"
   ]
  },
  {
   "cell_type": "markdown",
   "metadata": {},
   "source": [
    "Modifying a Dictionary:\n",
    "\n",
    "Dictionaries are mutable, so you can update, add, or remove elements.\n",
    "\n",
    "\n",
    "Updating an Existing Key"
   ]
  },
  {
   "cell_type": "code",
   "execution_count": null,
   "metadata": {},
   "outputs": [
    {
     "name": "stdout",
     "output_type": "stream",
     "text": [
      "29\n"
     ]
    }
   ],
   "source": [
    "person[\"age\"] = 29\n",
    "print(person[\"age\"])  # Output: 29"
   ]
  },
  {
   "cell_type": "markdown",
   "metadata": {},
   "source": [
    "Adding a New Key-Value Pair:"
   ]
  },
  {
   "cell_type": "code",
   "execution_count": null,
   "metadata": {},
   "outputs": [
    {
     "name": "stdout",
     "output_type": "stream",
     "text": [
      "{'name': 'John', 'hobbies': ['reading', 'gaming', 'coding'], 'address': {'city': 'Los Angeles', 'zip': 90001}, 100: 'Numeric Key', (1, 2): 'Tuple as Key', 'gender': 'Male'}\n"
     ]
    }
   ],
   "source": [
    "person[\"gender\"] = \"Male\"\n",
    "print(person)\n",
    "# Output: {'name': 'John', 'age': 29, 'hobbies': [...], 'address': {...}, 'gender': 'Male'}"
   ]
  },
  {
   "cell_type": "markdown",
   "metadata": {},
   "source": [
    "Removing Elements:"
   ]
  },
  {
   "cell_type": "code",
   "execution_count": null,
   "metadata": {},
   "outputs": [
    {
     "ename": "KeyError",
     "evalue": "'age'",
     "output_type": "error",
     "traceback": [
      "\u001b[1;31m---------------------------------------------------------------------------\u001b[0m",
      "\u001b[1;31mKeyError\u001b[0m                                  Traceback (most recent call last)",
      "\u001b[1;32m~\\AppData\\Local\\Temp\\ipykernel_10212\\3095998581.py\u001b[0m in \u001b[0;36m<module>\u001b[1;34m\u001b[0m\n\u001b[1;32m----> 1\u001b[1;33m \u001b[1;32mdel\u001b[0m \u001b[0mperson\u001b[0m\u001b[1;33m[\u001b[0m\u001b[1;34m\"age\"\u001b[0m\u001b[1;33m]\u001b[0m  \u001b[1;31m# Removes the key-value pair\u001b[0m\u001b[1;33m\u001b[0m\u001b[1;33m\u001b[0m\u001b[0m\n\u001b[0m\u001b[0;32m      2\u001b[0m \u001b[0mprint\u001b[0m\u001b[1;33m(\u001b[0m\u001b[0mperson\u001b[0m\u001b[1;33m)\u001b[0m\u001b[1;33m\u001b[0m\u001b[1;33m\u001b[0m\u001b[0m\n\u001b[0;32m      3\u001b[0m \u001b[1;33m\u001b[0m\u001b[0m\n\u001b[0;32m      4\u001b[0m \u001b[0mremoved_value\u001b[0m \u001b[1;33m=\u001b[0m \u001b[0mperson\u001b[0m\u001b[1;33m.\u001b[0m\u001b[0mpop\u001b[0m\u001b[1;33m(\u001b[0m\u001b[1;34m\"gender\"\u001b[0m\u001b[1;33m)\u001b[0m  \u001b[1;31m# Removes and returns the value\u001b[0m\u001b[1;33m\u001b[0m\u001b[1;33m\u001b[0m\u001b[0m\n\u001b[0;32m      5\u001b[0m \u001b[0mprint\u001b[0m\u001b[1;33m(\u001b[0m\u001b[0mremoved_value\u001b[0m\u001b[1;33m)\u001b[0m  \u001b[1;31m# Output: Male\u001b[0m\u001b[1;33m\u001b[0m\u001b[1;33m\u001b[0m\u001b[0m\n",
      "\u001b[1;31mKeyError\u001b[0m: 'age'"
     ]
    }
   ],
   "source": [
    "del person[\"age\"]  # Removes the key-value pair\n",
    "print(person)\n",
    "\n",
    "removed_value = person.pop(\"gender\")  # Removes and returns the value\n",
    "print(removed_value)  # Output: Male\n",
    "\n",
    "person.clear()  # Removes all items from the dictionary\n",
    "print(person)  # Output: {}"
   ]
  },
  {
   "cell_type": "markdown",
   "metadata": {},
   "source": [
    "Dictionary Operations :\n"
   ]
  },
  {
   "cell_type": "markdown",
   "metadata": {},
   "source": [
    "\n",
    "Checking if a Key Exists:"
   ]
  },
  {
   "cell_type": "code",
   "execution_count": null,
   "metadata": {},
   "outputs": [
    {
     "name": "stdout",
     "output_type": "stream",
     "text": [
      "False\n",
      "False\n"
     ]
    }
   ],
   "source": [
    "print(\"name\" in person)  # Output: True\n",
    "print(\"salary\" in person)  # Output: False"
   ]
  },
  {
   "cell_type": "markdown",
   "metadata": {},
   "source": [
    "Dictionary Length (len())"
   ]
  },
  {
   "cell_type": "code",
   "execution_count": null,
   "metadata": {},
   "outputs": [
    {
     "name": "stdout",
     "output_type": "stream",
     "text": [
      "3\n"
     ]
    }
   ],
   "source": [
    "print(len(my_dict))  # Output: 3 (number of key-value pairs)"
   ]
  },
  {
   "cell_type": "markdown",
   "metadata": {},
   "source": [
    "Iterating Through a Dictionary:"
   ]
  },
  {
   "cell_type": "markdown",
   "metadata": {},
   "source": [
    "Using a for loop"
   ]
  },
  {
   "cell_type": "code",
   "execution_count": null,
   "metadata": {},
   "outputs": [
    {
     "name": "stdout",
     "output_type": "stream",
     "text": [
      "name : Alice\n",
      "age : 25\n",
      "city : New York\n"
     ]
    }
   ],
   "source": [
    "for key in my_dict:\n",
    "    print(key, \":\", my_dict[key])"
   ]
  },
  {
   "cell_type": "markdown",
   "metadata": {},
   "source": [
    "Using items() Method"
   ]
  },
  {
   "cell_type": "code",
   "execution_count": null,
   "metadata": {},
   "outputs": [
    {
     "name": "stdout",
     "output_type": "stream",
     "text": [
      "name -> Alice\n",
      "age -> 25\n",
      "city -> New York\n"
     ]
    }
   ],
   "source": [
    "for key, value in my_dict.items():\n",
    "    print(key, \"->\", value)"
   ]
  },
  {
   "cell_type": "markdown",
   "metadata": {},
   "source": [
    "Using keys() and values() Methods"
   ]
  },
  {
   "cell_type": "code",
   "execution_count": null,
   "metadata": {},
   "outputs": [
    {
     "name": "stdout",
     "output_type": "stream",
     "text": [
      "dict_keys(['name', 'age', 'city'])\n",
      "dict_values(['Alice', 25, 'New York'])\n"
     ]
    }
   ],
   "source": [
    "print(my_dict.keys())  # Output: dict_keys(['name', 'age', 'city'])\n",
    "print(my_dict.values())  # Output: dict_values(['Alice', 25, 'New York'])"
   ]
  },
  {
   "cell_type": "markdown",
   "metadata": {},
   "source": [
    "Dictionary Methods :"
   ]
  },
  {
   "cell_type": "markdown",
   "metadata": {},
   "source": [
    "get(key, default)\t    Returns the value for a key; returns default if key is missing      \td.get(\"age\", 30)\n",
    "\n",
    "keys()\tReturns all dictionary keys\td.keys()\n",
    "\n",
    "values()\tReturns all dictionary values\td.values()\n",
    "\n",
    "items()\tReturns all key-value pairs as tuples\td.items()\n",
    "\n",
    "update(dict2)\tMerges dict2 into dict\td.update({\"city\": \"Paris\"})\n",
    "\n",
    "pop(key)\tRemoves and returns value of the given key\td.pop(\"age\")\n",
    "\n",
    "del d[key]\tDeletes key-value pair\tdel d[\"name\"]\n",
    "\n",
    "clear()\tRemoves all elements\td.clear()"
   ]
  },
  {
   "cell_type": "markdown",
   "metadata": {},
   "source": [
    "Nested Dictionary:\n",
    "\n",
    "A dictionary can contain another dictionary as a value."
   ]
  },
  {
   "cell_type": "code",
   "execution_count": null,
   "metadata": {},
   "outputs": [
    {
     "name": "stdout",
     "output_type": "stream",
     "text": [
      "90\n",
      "Chicago\n"
     ]
    }
   ],
   "source": [
    "student = {\n",
    "    \"name\": \"Emily\",\n",
    "    \"grades\": {\"math\": 90, \"science\": 85, \"history\": 88},\n",
    "    \"address\": {\"city\": \"Chicago\", \"zip\": \"60601\"}\n",
    "}\n",
    "print(student[\"grades\"][\"math\"])  # Output: 90\n",
    "print(student[\"address\"][\"city\"])  # Output: Chicago"
   ]
  },
  {
   "cell_type": "markdown",
   "metadata": {},
   "source": [
    "Dictionary Comprehension :\n",
    "\n",
    "Just like list comprehensions, Python supports dictionary comprehensions."
   ]
  },
  {
   "cell_type": "code",
   "execution_count": null,
   "metadata": {},
   "outputs": [
    {
     "name": "stdout",
     "output_type": "stream",
     "text": [
      "{1: 1, 2: 4, 3: 9, 4: 16, 5: 25}\n"
     ]
    }
   ],
   "source": [
    "squares = {x: x**2 for x in range(1, 6)}\n",
    "print(squares)"
   ]
  },
  {
   "cell_type": "markdown",
   "metadata": {},
   "source": [
    "\n",
    "When to Use a Dictionary?\n",
    "\n",
    "✅ Use a list when you need an ordered collection and access by index.\n",
    "\n",
    "✅ Use a dictionary when you need key-value mapping and fast lookups.\n",
    "\n",
    "✅ Use a nested dictionary when dealing with structured data."
   ]
  },
  {
   "cell_type": "markdown",
   "metadata": {},
   "source": []
  },
  {
   "cell_type": "markdown",
   "metadata": {},
   "source": [
    "4. Python Built-in Set Data Type (set)\n",
    "\n",
    "\n",
    "A set in Python is an unordered collection of unique elements. It is similar to mathematical sets and provides efficient\n",
    " operations for set-related tasks like union, intersection, and difference.\n",
    "\n",
    "Characteristics of Sets:\n",
    "\n",
    "Unordered → The elements do not follow a specific order.\n",
    "\n",
    "Unique elements → Duplicates are automatically removed.\n",
    "\n",
    "Mutable → You can add or remove elements.\n",
    "\n",
    "Supports mathematical operations like union, intersection, difference.\n",
    "\n",
    "Elements must be immutable → Can include int, float, str, tuple, but not list or dict.\n"
   ]
  },
  {
   "cell_type": "markdown",
   "metadata": {},
   "source": []
  },
  {
   "cell_type": "markdown",
   "metadata": {},
   "source": [
    "Creating a Set:\n",
    "\n",
    "Sets can be created using:\n",
    "\n",
    "    i)  Curly braces {}\n",
    "    ii) The set() constructor"
   ]
  },
  {
   "cell_type": "code",
   "execution_count": null,
   "metadata": {},
   "outputs": [
    {
     "name": "stdout",
     "output_type": "stream",
     "text": [
      "{40, 10, 20, 30}\n",
      "{1, 2, 3, 4, 5}\n"
     ]
    }
   ],
   "source": [
    "# Using curly braces\n",
    "my_set = {10, 20, 30, 40}\n",
    "print(my_set)  \n",
    "# Output: {40, 10, 20, 30}  (Order may vary)\n",
    "\n",
    "# Using set() function\n",
    "my_set2 = set([1, 2, 3, 4, 5])  \n",
    "print(my_set2)  \n",
    "# Output: {1, 2, 3, 4, 5}"
   ]
  },
  {
   "cell_type": "markdown",
   "metadata": {},
   "source": [
    "Removing Duplicates Automatically:"
   ]
  },
  {
   "cell_type": "code",
   "execution_count": null,
   "metadata": {},
   "outputs": [
    {
     "name": "stdout",
     "output_type": "stream",
     "text": [
      "{40, 10, 20, 30}\n"
     ]
    }
   ],
   "source": [
    "duplicate_set = {10, 20, 20, 30, 30, 40}\n",
    "print(duplicate_set)  \n",
    "# Output: {40, 10, 20, 30}  (Duplicates removed)"
   ]
  },
  {
   "cell_type": "markdown",
   "metadata": {},
   "source": [
    "Creating an Empty Set:"
   ]
  },
  {
   "cell_type": "code",
   "execution_count": null,
   "metadata": {},
   "outputs": [
    {
     "name": "stdout",
     "output_type": "stream",
     "text": [
      "<class 'set'>\n",
      "<class 'dict'>\n"
     ]
    }
   ],
   "source": [
    "empty_set = set()  # ✅ Correct way\n",
    "print(type(empty_set))  # Output: <class 'set'>\n",
    "\n",
    "empty_dict = {}  # ❌ This creates an empty dictionary, not a set\n",
    "print(type(empty_dict))  # Output: <class 'dict'>"
   ]
  },
  {
   "cell_type": "markdown",
   "metadata": {},
   "source": [
    "Accessing Set Elements:\n",
    "\n",
    "Sets do not support indexing or slicing because they are unordered."
   ]
  },
  {
   "cell_type": "code",
   "execution_count": null,
   "metadata": {},
   "outputs": [
    {
     "ename": "TypeError",
     "evalue": "'set' object is not subscriptable",
     "output_type": "error",
     "traceback": [
      "\u001b[1;31m---------------------------------------------------------------------------\u001b[0m",
      "\u001b[1;31mTypeError\u001b[0m                                 Traceback (most recent call last)",
      "\u001b[1;32m~\\AppData\\Local\\Temp\\ipykernel_16124\\3513643072.py\u001b[0m in \u001b[0;36m<module>\u001b[1;34m\u001b[0m\n\u001b[0;32m      1\u001b[0m \u001b[0mmy_set\u001b[0m \u001b[1;33m=\u001b[0m \u001b[1;33m{\u001b[0m\u001b[1;36m10\u001b[0m\u001b[1;33m,\u001b[0m \u001b[1;36m20\u001b[0m\u001b[1;33m,\u001b[0m \u001b[1;36m30\u001b[0m\u001b[1;33m}\u001b[0m\u001b[1;33m\u001b[0m\u001b[1;33m\u001b[0m\u001b[0m\n\u001b[1;32m----> 2\u001b[1;33m \u001b[0mprint\u001b[0m\u001b[1;33m(\u001b[0m\u001b[0mmy_set\u001b[0m\u001b[1;33m[\u001b[0m\u001b[1;36m0\u001b[0m\u001b[1;33m]\u001b[0m\u001b[1;33m)\u001b[0m \u001b[1;31m# ❌ This will raise a TypeError\u001b[0m\u001b[1;33m\u001b[0m\u001b[1;33m\u001b[0m\u001b[0m\n\u001b[0m",
      "\u001b[1;31mTypeError\u001b[0m: 'set' object is not subscriptable"
     ]
    }
   ],
   "source": [
    "my_set = {10, 20, 30}\n",
    "print(my_set[0]) # ❌ This will raise a TypeError"
   ]
  },
  {
   "cell_type": "markdown",
   "metadata": {},
   "source": [
    "Instead, you can iterate through a set using a for loop:"
   ]
  },
  {
   "cell_type": "code",
   "execution_count": null,
   "metadata": {},
   "outputs": [
    {
     "name": "stdout",
     "output_type": "stream",
     "text": [
      "10\n",
      "20\n",
      "30\n"
     ]
    }
   ],
   "source": [
    "for num in my_set:\n",
    "    print(num)"
   ]
  },
  {
   "cell_type": "markdown",
   "metadata": {},
   "source": [
    "Modifying a Set:"
   ]
  },
  {
   "cell_type": "markdown",
   "metadata": {},
   "source": [
    "Adding Elements (add())\n"
   ]
  },
  {
   "cell_type": "code",
   "execution_count": null,
   "metadata": {},
   "outputs": [
    {
     "name": "stdout",
     "output_type": "stream",
     "text": [
      "{10, 20, 50, 30}\n"
     ]
    }
   ],
   "source": [
    "my_set.add(50)\n",
    "print(my_set)  \n",
    "# Output: {50, 10, 20, 30} (Order may vary)"
   ]
  },
  {
   "cell_type": "markdown",
   "metadata": {},
   "source": [
    "Adding Multiple Elements (update())"
   ]
  },
  {
   "cell_type": "code",
   "execution_count": null,
   "metadata": {},
   "outputs": [
    {
     "name": "stdout",
     "output_type": "stream",
     "text": [
      "{70, 10, 80, 50, 20, 60, 30}\n"
     ]
    }
   ],
   "source": [
    "my_set.update([60, 70, 80])\n",
    "print(my_set)  "
   ]
  },
  {
   "cell_type": "markdown",
   "metadata": {},
   "source": [
    "Removing Elements:"
   ]
  },
  {
   "cell_type": "code",
   "execution_count": null,
   "metadata": {},
   "outputs": [
    {
     "name": "stdout",
     "output_type": "stream",
     "text": [
      "{70, 10, 80, 50, 20, 60}\n",
      "{70, 10, 80, 50, 20, 60}\n",
      "70\n",
      "set()\n"
     ]
    }
   ],
   "source": [
    "my_set.remove(30)  # Removes 30; raises an error if the element is not found\n",
    "print(my_set)\n",
    "\n",
    "my_set.discard(100)  # Does nothing if 100 is not found (no error)\n",
    "print(my_set)\n",
    "\n",
    "popped_value = my_set.pop()  # Removes a random element\n",
    "print(popped_value)\n",
    "\n",
    "my_set.clear()  # Removes all elements\n",
    "print(my_set)  # Output: set()"
   ]
  },
  {
   "cell_type": "markdown",
   "metadata": {},
   "source": [
    "Set Operations:\n",
    "\n",
    "Python sets support powerful mathematical operations."
   ]
  },
  {
   "cell_type": "markdown",
   "metadata": {},
   "source": [
    "Union (| or union())\n",
    "\n",
    "Returns all unique elements from both sets."
   ]
  },
  {
   "cell_type": "code",
   "execution_count": null,
   "metadata": {},
   "outputs": [
    {
     "name": "stdout",
     "output_type": "stream",
     "text": [
      "{1, 2, 3, 4, 5, 6}\n",
      "{1, 2, 3, 4, 5, 6}\n"
     ]
    }
   ],
   "source": [
    "A = {1, 2, 3, 4}\n",
    "B = {3, 4, 5, 6}\n",
    "\n",
    "print(A | B)  # Output: {1, 2, 3, 4, 5, 6}\n",
    "print(A.union(B))  # Output: {1, 2, 3, 4, 5, 6}"
   ]
  },
  {
   "cell_type": "markdown",
   "metadata": {},
   "source": [
    "Intersection (& or intersection()):\n",
    "\n",
    "Returns common elements."
   ]
  },
  {
   "cell_type": "code",
   "execution_count": null,
   "metadata": {},
   "outputs": [
    {
     "name": "stdout",
     "output_type": "stream",
     "text": [
      "{3, 4}\n",
      "{3, 4}\n"
     ]
    }
   ],
   "source": [
    "print(A & B)  # Output: {3, 4}\n",
    "print(A.intersection(B))  # Output: {3, 4}"
   ]
  },
  {
   "cell_type": "markdown",
   "metadata": {},
   "source": [
    "Difference (- or difference()):\n",
    "\n",
    "Returns elements in A that are not in B."
   ]
  },
  {
   "cell_type": "code",
   "execution_count": null,
   "metadata": {},
   "outputs": [
    {
     "name": "stdout",
     "output_type": "stream",
     "text": [
      "{1, 2}\n",
      "{1, 2}\n"
     ]
    }
   ],
   "source": [
    "print(A - B)  # Output: {1, 2}\n",
    "print(A.difference(B))  # Output: {1, 2}"
   ]
  },
  {
   "cell_type": "markdown",
   "metadata": {},
   "source": [
    "Symmetric Difference (^ or symmetric_difference()):\n",
    "\n",
    "Returns elements that are in either set but not both."
   ]
  },
  {
   "cell_type": "code",
   "execution_count": null,
   "metadata": {},
   "outputs": [
    {
     "name": "stdout",
     "output_type": "stream",
     "text": [
      "{1, 2, 5, 6}\n",
      "{1, 2, 5, 6}\n"
     ]
    }
   ],
   "source": [
    "print(A ^ B)  # Output: {1, 2, 5, 6}\n",
    "print(A.symmetric_difference(B))  # Output: {1, 2, 5, 6}"
   ]
  },
  {
   "cell_type": "markdown",
   "metadata": {},
   "source": [
    "Checking Subsets and Supersets:\n"
   ]
  },
  {
   "cell_type": "code",
   "execution_count": null,
   "metadata": {},
   "outputs": [
    {
     "name": "stdout",
     "output_type": "stream",
     "text": [
      "True\n",
      "True\n"
     ]
    }
   ],
   "source": [
    "X = {1, 2, 3}\n",
    "Y = {1, 2, 3, 4, 5}\n",
    "\n",
    "print(X.issubset(Y))  # Output: True (X is inside Y)\n",
    "print(Y.issuperset(X))  # Output: True (Y contains all elements of X)"
   ]
  },
  {
   "cell_type": "markdown",
   "metadata": {},
   "source": [
    "Checking Membership:"
   ]
  },
  {
   "cell_type": "code",
   "execution_count": null,
   "metadata": {},
   "outputs": [
    {
     "name": "stdout",
     "output_type": "stream",
     "text": [
      "True\n",
      "False\n"
     ]
    }
   ],
   "source": [
    "my_set = {10, 20, 30}\n",
    "print(10 in my_set)  # Output: True\n",
    "print(40 in my_set)  # Output: False"
   ]
  },
  {
   "cell_type": "markdown",
   "metadata": {},
   "source": [
    "Frozen Set (frozenset):\n",
    "\n",
    "A frozenset is an immutable version of a set."
   ]
  },
  {
   "cell_type": "code",
   "execution_count": null,
   "metadata": {},
   "outputs": [
    {
     "name": "stdout",
     "output_type": "stream",
     "text": [
      "frozenset({1, 2, 3, 4})\n"
     ]
    }
   ],
   "source": [
    "fs = frozenset([1, 2, 3, 4])\n",
    "print(fs)\n",
    "\n",
    "# fs.add(5)  ❌ This will raise an AttributeError"
   ]
  },
  {
   "cell_type": "markdown",
   "metadata": {},
   "source": [
    "Mutable and Immutable Data Types:\n",
    "\n",
    "Mutable: Can be changed after creation.\n",
    "\n",
    "Immutable: Cannot be changed after creation.\n",
    "\n",
    "\n",
    "Examples:"
   ]
  },
  {
   "cell_type": "code",
   "execution_count": null,
   "metadata": {},
   "outputs": [
    {
     "ename": "TypeError",
     "evalue": "'str' object does not support item assignment",
     "output_type": "error",
     "traceback": [
      "\u001b[1;31m---------------------------------------------------------------------------\u001b[0m",
      "\u001b[1;31mTypeError\u001b[0m                                 Traceback (most recent call last)",
      "\u001b[1;32m~\\AppData\\Local\\Temp\\ipykernel_16124\\3605740575.py\u001b[0m in \u001b[0;36m<module>\u001b[1;34m\u001b[0m\n\u001b[0;32m      1\u001b[0m \u001b[1;31m# Immutable (String)\u001b[0m\u001b[1;33m\u001b[0m\u001b[1;33m\u001b[0m\u001b[1;33m\u001b[0m\u001b[0m\n\u001b[0;32m      2\u001b[0m \u001b[0ms\u001b[0m \u001b[1;33m=\u001b[0m \u001b[1;34m\"hello\"\u001b[0m\u001b[1;33m\u001b[0m\u001b[1;33m\u001b[0m\u001b[0m\n\u001b[1;32m----> 3\u001b[1;33m \u001b[0ms\u001b[0m\u001b[1;33m[\u001b[0m\u001b[1;36m0\u001b[0m\u001b[1;33m]\u001b[0m \u001b[1;33m=\u001b[0m \u001b[1;34m\"H\"\u001b[0m  \u001b[1;31m# This will cause an error!\u001b[0m\u001b[1;33m\u001b[0m\u001b[1;33m\u001b[0m\u001b[0m\n\u001b[0m\u001b[0;32m      4\u001b[0m \u001b[1;33m\u001b[0m\u001b[0m\n\u001b[0;32m      5\u001b[0m \u001b[1;31m# Mutable (List)\u001b[0m\u001b[1;33m\u001b[0m\u001b[1;33m\u001b[0m\u001b[1;33m\u001b[0m\u001b[0m\n",
      "\u001b[1;31mTypeError\u001b[0m: 'str' object does not support item assignment"
     ]
    }
   ],
   "source": [
    "# Immutable (String)\n",
    "s = \"hello\"\n",
    "s[0] = \"H\"  # This will cause an error!\n",
    "\n"
   ]
  },
  {
   "cell_type": "code",
   "execution_count": null,
   "metadata": {},
   "outputs": [
    {
     "name": "stdout",
     "output_type": "stream",
     "text": [
      "[100, 2, 3]\n"
     ]
    }
   ],
   "source": [
    "# Mutable (List)\n",
    "lst = [1, 2, 3]\n",
    "lst[0] = 100  \n",
    "print(lst)  # Output: [100, 2, 3]"
   ]
  },
  {
   "cell_type": "markdown",
   "metadata": {},
   "source": [
    "Data Type\t                    Mutable / Immutable\n",
    "\n",
    "\n",
    "int, float, complex\t                Immutable\n",
    "\n",
    "str\t                                Immutable\n",
    "\n",
    "tuple\t                           \n",
    "\n",
    " Immutable\n",
    "\n",
    "list\t                            Mutable\n",
    "\n",
    "set\t                                Mutable\n",
    "\n",
    "dict\t                            Mutable"
   ]
  },
  {
   "cell_type": "markdown",
   "metadata": {},
   "source": []
  },
  {
   "cell_type": "markdown",
   "metadata": {},
   "source": [
    "Python type() function :\n",
    "\n",
    "The type() function in Python is used to determine the type of an object. It can also be used to create new classes dynamically."
   ]
  },
  {
   "cell_type": "markdown",
   "metadata": {},
   "source": [
    "Syntax:\n",
    "\n",
    "type(object)\n",
    "\n",
    "or\n",
    "\n",
    "type(name, bases, dict)"
   ]
  },
  {
   "cell_type": "markdown",
   "metadata": {},
   "source": [
    "\n",
    "\n",
    "Checking the Type of an Object:\n",
    "\n",
    "\n",
    "When used with a single argument, type() returns the type of the given object.\n",
    "\n",
    "\n",
    "Example:"
   ]
  },
  {
   "cell_type": "code",
   "execution_count": null,
   "metadata": {},
   "outputs": [
    {
     "name": "stdout",
     "output_type": "stream",
     "text": [
      "<class 'int'>\n",
      "<class 'float'>\n",
      "<class 'str'>\n",
      "<class 'list'>\n",
      "<class 'tuple'>\n",
      "<class 'set'>\n",
      "<class 'dict'>\n"
     ]
    }
   ],
   "source": [
    "print(type(10))        # Output: <class 'int'>\n",
    "print(type(10.5))      # Output: <class 'float'>\n",
    "print(type(\"Hello\"))   # Output: <class 'str'>\n",
    "print(type([1, 2, 3])) # Output: <class 'list'>\n",
    "print(type((1, 2, 3))) # Output: <class 'tuple'>\n",
    "print(type({1, 2, 3})) # Output: <class 'set'>\n",
    "print(type({'a': 1}))  # Output: <class 'dict'>"
   ]
  },
  {
   "cell_type": "markdown",
   "metadata": {},
   "source": [
    "Creating Classes Dynamically:\n",
    "\n",
    "When used with three arguments, type(name, bases, dict), type() creates a new class.\n",
    "\n",
    "type(class_name, base_classes, attributes)\n",
    "\n",
    "    i)      class_name: Name of the class (string)\n",
    "\n",
    "    ii)     base_classes: Tuple containing base classes (for inheritance)\n",
    "\n",
    "    iii)    attributes: Dictionary containing attributes and methods\n",
    "\n",
    "\n",
    "Example:"
   ]
  },
  {
   "cell_type": "code",
   "execution_count": null,
   "metadata": {},
   "outputs": [
    {
     "name": "stdout",
     "output_type": "stream",
     "text": [
      "10\n",
      "<class 'type'>\n",
      "<class '__main__.MyClass'>\n"
     ]
    }
   ],
   "source": [
    "# Creating a class dynamically\n",
    "MyClass = type(\"MyClass\", (object,), {\"x\": 10, \"show\": lambda self: print(self.x)})\n",
    "\n",
    "# Creating an instance of the dynamically created class\n",
    "obj = MyClass()\n",
    "obj.show()  # Output: 10\n",
    "\n",
    "print(type(MyClass))  # Output: <class 'type'>\n",
    "print(type(obj))      # Output: <class '__main__.MyClass'>"
   ]
  },
  {
   "cell_type": "markdown",
   "metadata": {},
   "source": []
  },
  {
   "cell_type": "markdown",
   "metadata": {},
   "source": [
    "Python Type Casting (Type Conversion):\n",
    "\n",
    "Type casting (or type conversion) in Python refers to converting one type of data into another. Python provides two types of type conversion:\n",
    "\n",
    "    i)  Implicit Type Conversion – Done automatically by Python.\n",
    "    \n",
    "    ii) Explicit Type Conversion – Done manually by the programmer using built-in functions."
   ]
  },
  {
   "cell_type": "markdown",
   "metadata": {},
   "source": [
    "1. Implicit Type Conversion (Automatic)\n",
    "\n",
    "Python automatically converts one data type into another when it makes sense.\n",
    "\n",
    "\n",
    "Example:\n"
   ]
  },
  {
   "cell_type": "code",
   "execution_count": null,
   "metadata": {},
   "outputs": [
    {
     "name": "stdout",
     "output_type": "stream",
     "text": [
      "12.5\n",
      "<class 'float'>\n"
     ]
    }
   ],
   "source": [
    "num_int = 10       # Integer\n",
    "num_float = 2.5    # Float\n",
    "\n",
    "result = num_int + num_float  # Python converts 'num_int' to float\n",
    "\n",
    "print(result)     # Output: 12.5\n",
    "print(type(result))  # Output: <class 'float'>"
   ]
  },
  {
   "cell_type": "markdown",
   "metadata": {},
   "source": [
    "Explicit Type Conversion (Manual):\n",
    "\n",
    "The programmer manually converts data from one type to another using built-in functions.\n",
    "\n",
    "Common Type Casting Functions:\n",
    "\n",
    "Function\tConverts to\n",
    "\n",
    "int(x)\tInteger\n",
    "float(x)\tFloating point\n",
    "str(x)\tString\n",
    "list(x)\tList\n",
    "tuple(x)\tTuple\n",
    "set(x)\tSet\n",
    "dict(x)\tDictionary\n",
    "\n",
    "\n",
    "Examples:"
   ]
  },
  {
   "cell_type": "markdown",
   "metadata": {},
   "source": [
    "a) Converting String to Integer:"
   ]
  },
  {
   "cell_type": "code",
   "execution_count": null,
   "metadata": {},
   "outputs": [
    {
     "name": "stdout",
     "output_type": "stream",
     "text": [
      "100\n",
      "<class 'int'>\n"
     ]
    }
   ],
   "source": [
    "num_str = \"100\"\n",
    "num_int = int(num_str)  # Converts string to integer\n",
    "\n",
    "print(num_int)      # Output: 100\n",
    "print(type(num_int))  # Output: <class 'int'>\n"
   ]
  },
  {
   "cell_type": "markdown",
   "metadata": {},
   "source": [
    "b) Converting Float to Integer"
   ]
  },
  {
   "cell_type": "code",
   "execution_count": null,
   "metadata": {},
   "outputs": [
    {
     "name": "stdout",
     "output_type": "stream",
     "text": [
      "9\n"
     ]
    }
   ],
   "source": [
    "num_float = 9.99\n",
    "num_int = int(num_float)  # Converts float to integer (removes decimal part)\n",
    "\n",
    "print(num_int)  # Output: 9\n"
   ]
  },
  {
   "cell_type": "markdown",
   "metadata": {},
   "source": [
    "c) Converting Integer to String"
   ]
  },
  {
   "cell_type": "code",
   "execution_count": null,
   "metadata": {},
   "outputs": [
    {
     "name": "stdout",
     "output_type": "stream",
     "text": [
      "50\n",
      "<class 'str'>\n"
     ]
    }
   ],
   "source": [
    "num = 50\n",
    "num_str = str(num)  # Converts integer to string\n",
    "\n",
    "print(num_str)       # Output: \"50\"\n",
    "print(type(num_str))  # Output: <class 'str'>\n"
   ]
  },
  {
   "cell_type": "markdown",
   "metadata": {},
   "source": [
    "d) Converting List to Tuple"
   ]
  },
  {
   "cell_type": "code",
   "execution_count": null,
   "metadata": {},
   "outputs": [
    {
     "name": "stdout",
     "output_type": "stream",
     "text": [
      "(1, 2, 3)\n"
     ]
    }
   ],
   "source": [
    "my_list = [1, 2, 3]\n",
    "my_tuple = tuple(my_list)  # Converts list to tuple\n",
    "\n",
    "print(my_tuple)  # Output: (1, 2, 3)\n"
   ]
  },
  {
   "cell_type": "markdown",
   "metadata": {},
   "source": [
    "e) Converting List to Set"
   ]
  },
  {
   "cell_type": "code",
   "execution_count": null,
   "metadata": {},
   "outputs": [
    {
     "name": "stdout",
     "output_type": "stream",
     "text": [
      "{1, 2, 3, 4}\n"
     ]
    }
   ],
   "source": [
    "my_list = [1, 2, 2, 3, 4]\n",
    "my_set = set(my_list)  # Removes duplicates\n",
    "\n",
    "print(my_set)  # Output: {1, 2, 3, 4}\n"
   ]
  },
  {
   "cell_type": "markdown",
   "metadata": {},
   "source": [
    "f) Converting List of Tuples to Dictionary"
   ]
  },
  {
   "cell_type": "code",
   "execution_count": null,
   "metadata": {},
   "outputs": [
    {
     "name": "stdout",
     "output_type": "stream",
     "text": [
      "{'name': 'Alice', 'age': 25}\n"
     ]
    }
   ],
   "source": [
    "my_list = [(\"name\", \"Alice\"), (\"age\", 25)]\n",
    "my_dict = dict(my_list)\n",
    "\n",
    "print(my_dict)  # Output: {'name': 'Alice', 'age': 25}\n"
   ]
  },
  {
   "cell_type": "markdown",
   "metadata": {},
   "source": [
    "Python String Literals – Single and Triple Quoted Strings\n",
    "In Python, string literals are sequences of characters enclosed in quotes. Python provides several ways to define strings using single quotes ('), double quotes (\"), and triple quotes (''' or \"\"\").\n",
    "\n",
    "1. Single-Quoted Strings ('...')\n",
    "Strings can be enclosed in single quotes (').\n",
    "Useful for short, simple strings.\n",
    "If the string contains a single quote (') inside, use an escape character (\\) or switch to double quotes.\n",
    "Example:"
   ]
  },
  {
   "cell_type": "code",
   "execution_count": null,
   "metadata": {},
   "outputs": [
    {
     "name": "stdout",
     "output_type": "stream",
     "text": [
      "Hello, Python!\n"
     ]
    }
   ],
   "source": [
    "string1 = 'Hello, Python!'\n",
    "print(string1)  # Output: Hello, Python!\n"
   ]
  },
  {
   "cell_type": "markdown",
   "metadata": {},
   "source": [
    "Handling Apostrophes (') in Single-Quoted Strings:"
   ]
  },
  {
   "cell_type": "code",
   "execution_count": null,
   "metadata": {},
   "outputs": [
    {
     "name": "stdout",
     "output_type": "stream",
     "text": [
      "It's a beautiful day!\n"
     ]
    }
   ],
   "source": [
    "string2 = 'It\\'s a beautiful day!'  # Using backslash (\\) to escape '\n",
    "print(string2)  # Output: It's a beautiful day!\n"
   ]
  },
  {
   "cell_type": "markdown",
   "metadata": {},
   "source": [
    "or"
   ]
  },
  {
   "cell_type": "code",
   "execution_count": null,
   "metadata": {},
   "outputs": [
    {
     "name": "stdout",
     "output_type": "stream",
     "text": [
      "It's a beautiful day!\n"
     ]
    }
   ],
   "source": [
    "string3 = \"It's a beautiful day!\"  # Using double quotes to avoid escaping\n",
    "print(string3)  # Output: It's a beautiful day!\n"
   ]
  },
  {
   "cell_type": "markdown",
   "metadata": {},
   "source": [
    "2. Double-Quoted Strings (\"...\")\n",
    "Work the same way as single-quoted strings.\n",
    "Allow easier handling of single quotes (') inside the string.\n",
    "Example:"
   ]
  },
  {
   "cell_type": "code",
   "execution_count": null,
   "metadata": {},
   "outputs": [
    {
     "name": "stdout",
     "output_type": "stream",
     "text": [
      "Python is fun!\n"
     ]
    }
   ],
   "source": [
    "string4 = \"Python is fun!\"\n",
    "print(string4)  # Output: Python is fun!\n"
   ]
  },
  {
   "cell_type": "markdown",
   "metadata": {},
   "source": [
    "Handling Quotes Inside:"
   ]
  },
  {
   "cell_type": "code",
   "execution_count": null,
   "metadata": {},
   "outputs": [
    {
     "name": "stdout",
     "output_type": "stream",
     "text": [
      "She said, \"Python is awesome!\"\n"
     ]
    }
   ],
   "source": [
    "string5 = \"She said, \\\"Python is awesome!\\\"\"\n",
    "print(string5)  # Output: She said, \"Python is awesome!\"\n"
   ]
  },
  {
   "cell_type": "markdown",
   "metadata": {},
   "source": [
    "Or"
   ]
  },
  {
   "cell_type": "code",
   "execution_count": null,
   "metadata": {},
   "outputs": [
    {
     "name": "stdout",
     "output_type": "stream",
     "text": [
      "She said, \"Python is awesome!\"\n"
     ]
    }
   ],
   "source": [
    "string6 = 'She said, \"Python is awesome!\"'  # Using single quotes outside\n",
    "print(string6)  # Output: She said, \"Python is awesome!\"\n"
   ]
  },
  {
   "cell_type": "markdown",
   "metadata": {},
   "source": [
    " Triple-Quoted Strings ('''...''' or \"\"\"...\"\"\")\n",
    "Used for multiline strings.\n",
    "Can contain both single and double quotes without escaping.\n",
    "Often used for docstrings (multi-line comments in Python functions).\n",
    "Example (Multiline String):"
   ]
  },
  {
   "cell_type": "code",
   "execution_count": null,
   "metadata": {},
   "outputs": [
    {
     "name": "stdout",
     "output_type": "stream",
     "text": [
      "This is a\n",
      "multiline string\n",
      "in Python.\n"
     ]
    }
   ],
   "source": [
    "multi_string = '''This is a\n",
    "multiline string\n",
    "in Python.'''\n",
    "print(multi_string)\n"
   ]
  },
  {
   "cell_type": "markdown",
   "metadata": {},
   "source": [
    "Using Triple Quotes to Avoid Escape Characters:"
   ]
  },
  {
   "cell_type": "code",
   "execution_count": null,
   "metadata": {},
   "outputs": [
    {
     "name": "stdout",
     "output_type": "stream",
     "text": [
      "She said, \"It's a wonderful day!\"\n"
     ]
    }
   ],
   "source": [
    "quote_string = '''She said, \"It's a wonderful day!\"'''\n",
    "print(quote_string)\n"
   ]
  },
  {
   "cell_type": "markdown",
   "metadata": {},
   "source": [
    "Key Differences\n",
    "Type\t               Example\tSupports Multi-line?\tRequires Escaping?\n",
    "Single-quoted ('...')\t'Hello'\tNo\t                    Yes, for ' inside\n",
    "Double-quoted (\"...\")\t\"Hello\"\tNo\t                    Yes, for \" inside\n",
    "Triple-quoted ('''...''' or \"\"\"...\"\"\")\t'''Hello'''\t Yes\tNo\n"
   ]
  },
  {
   "cell_type": "markdown",
   "metadata": {},
   "source": [
    "Escape Sequences:\n",
    "\n",
    "Eescape sequences are special character combinations that represent certain special\n",
    "\n",
    "characters or actions within strings. They begin with a backslash (\\) followed by a character\n",
    " \n",
    "that indicates a specific action."
   ]
  },
  {
   "cell_type": "markdown",
   "metadata": {},
   "source": [
    "Here are some common escape sequences in Python:\n",
    "\n",
    "\\n: Newline\n",
    "\n",
    "This escape sequence represents a newline character. When used in a string, it moves the text following it to the next line."
   ]
  },
  {
   "cell_type": "code",
   "execution_count": null,
   "metadata": {},
   "outputs": [
    {
     "name": "stdout",
     "output_type": "stream",
     "text": [
      "Hello\n",
      "World\n"
     ]
    }
   ],
   "source": [
    "print(\"Hello\\nWorld\")  # Output:  Hello\n",
    "                                # World\n"
   ]
  },
  {
   "cell_type": "markdown",
   "metadata": {},
   "source": [
    "\\t: Tab\n",
    "\n",
    "This adds a tab space in the string, which is often used for indentation."
   ]
  },
  {
   "cell_type": "code",
   "execution_count": null,
   "metadata": {},
   "outputs": [
    {
     "name": "stdout",
     "output_type": "stream",
     "text": [
      "Hello\tWorld\n"
     ]
    }
   ],
   "source": [
    "print(\"Hello\\tWorld\")  # Output: Hello   World\n"
   ]
  },
  {
   "cell_type": "markdown",
   "metadata": {},
   "source": [
    "\\\\: Backslash\n",
    "\n",
    "Since the backslash \\ is used as an escape character, you need to use a double backslash to\n",
    "\n",
    " represent an actual backslash in a string."
   ]
  },
  {
   "cell_type": "code",
   "execution_count": null,
   "metadata": {},
   "outputs": [
    {
     "name": "stdout",
     "output_type": "stream",
     "text": [
      "This is a backslash: \\\n"
     ]
    }
   ],
   "source": [
    "print(\"This is a backslash: \\\\\")\n",
    "# Output:\n",
    "# This is a backslash: \\\n"
   ]
  },
  {
   "cell_type": "markdown",
   "metadata": {},
   "source": [
    "\\': Single Quote\n",
    "\n",
    "This allows you to include a single quote inside a string that is enclosed in single quotes."
   ]
  },
  {
   "cell_type": "code",
   "execution_count": null,
   "metadata": {},
   "outputs": [
    {
     "name": "stdout",
     "output_type": "stream",
     "text": [
      "It's a beautiful day.\n"
     ]
    }
   ],
   "source": [
    "print('It\\'s a beautiful day.')\n",
    "# Output:\n",
    "# It's a beautiful day.\n"
   ]
  },
  {
   "cell_type": "markdown",
   "metadata": {},
   "source": [
    "\\\": Double Quote\n",
    "\n",
    "This allows you to include a double quote inside a string that is enclosed in double quotes."
   ]
  },
  {
   "cell_type": "code",
   "execution_count": null,
   "metadata": {},
   "outputs": [
    {
     "name": "stdout",
     "output_type": "stream",
     "text": [
      "He said, \"Hello!\"\n"
     ]
    }
   ],
   "source": [
    "print(\"He said, \\\"Hello!\\\"\")\n",
    "# Output:\n",
    "# He said, \"Hello!\"\n"
   ]
  },
  {
   "cell_type": "markdown",
   "metadata": {},
   "source": [
    "\\r: Carriage Return\n",
    "\n",
    "This moves the cursor to the beginning of the line. It doesn't move to the next line; it \n",
    "\n",
    "simply overwrites the current line."
   ]
  },
  {
   "cell_type": "code",
   "execution_count": null,
   "metadata": {},
   "outputs": [
    {
     "name": "stdout",
     "output_type": "stream",
     "text": [
      "World\n"
     ]
    }
   ],
   "source": [
    "print(\"Hello\\rWorld\")\n",
    "# Output:\n",
    "# World (since \"World\" overwrites \"Hello\")\n"
   ]
  },
  {
   "cell_type": "markdown",
   "metadata": {},
   "source": [
    "\\b: Backspace\n",
    "\n",
    "This deletes the previous character in the string."
   ]
  },
  {
   "cell_type": "code",
   "execution_count": null,
   "metadata": {},
   "outputs": [
    {
     "name": "stdout",
     "output_type": "stream",
     "text": [
      "HellWorld\n"
     ]
    }
   ],
   "source": [
    "print(\"Hello\\bWorld\")\n",
    "# Output:\n",
    "# HellWorld (The \"o\" is deleted by the backspace)\n"
   ]
  },
  {
   "cell_type": "markdown",
   "metadata": {},
   "source": [
    "\\f: Form Feed\n",
    "\n",
    "This is used to move the cursor to the next page in some old printers. In most cases, it's \n",
    "\n",
    "not commonly used in modern systems."
   ]
  },
  {
   "cell_type": "code",
   "execution_count": null,
   "metadata": {},
   "outputs": [
    {
     "name": "stdout",
     "output_type": "stream",
     "text": [
      "Hello\fWorld\n"
     ]
    }
   ],
   "source": [
    "print(\"Hello\\fWorld\")\n",
    "# Output: May print Hello and World with a form feed in between.\n"
   ]
  },
  {
   "cell_type": "markdown",
   "metadata": {},
   "source": [
    "\\v: Vertical Tab\n",
    "\n",
    "Similar to the horizontal tab \\t, but it moves the cursor vertically."
   ]
  },
  {
   "cell_type": "code",
   "execution_count": null,
   "metadata": {},
   "outputs": [
    {
     "name": "stdout",
     "output_type": "stream",
     "text": [
      "Hello\u000bWorld\n"
     ]
    }
   ],
   "source": [
    "print(\"Hello\\vWorld\")\n",
    "# Output: Moves \"World\" vertically relative to \"Hello\", though the effect might not be visible in all environments."
   ]
  },
  {
   "cell_type": "markdown",
   "metadata": {},
   "source": [
    "\n",
    "\\ooo: Octal value\n",
    "\n",
    "A sequence of three digits (ooo) represents an octal value.\n"
   ]
  },
  {
   "cell_type": "code",
   "execution_count": null,
   "metadata": {},
   "outputs": [
    {
     "name": "stdout",
     "output_type": "stream",
     "text": [
      "A\n"
     ]
    }
   ],
   "source": [
    "print(\"\\101\")  # Octal value for 'A'\n",
    "# Output: A\n"
   ]
  },
  {
   "cell_type": "markdown",
   "metadata": {},
   "source": [
    "\\xhh: Hexadecimal value\n",
    "\n",
    "A two-digit hexadecimal value (hh) is used to represent a character."
   ]
  },
  {
   "cell_type": "code",
   "execution_count": null,
   "metadata": {},
   "outputs": [
    {
     "name": "stdout",
     "output_type": "stream",
     "text": [
      "Hello\n"
     ]
    }
   ],
   "source": [
    "print(\"\\x48\\x65\\x6c\\x6c\\x6f\")  # Hexadecimal for \"Hello\"\n",
    "# Output: Hello\n"
   ]
  },
  {
   "cell_type": "markdown",
   "metadata": {},
   "source": [
    "\\uXXXX: Unicode character (4-digit)\n",
    "\n",
    "This is used to represent a Unicode character using its 4-digit hexadecimal code."
   ]
  },
  {
   "cell_type": "code",
   "execution_count": null,
   "metadata": {},
   "outputs": [
    {
     "name": "stdout",
     "output_type": "stream",
     "text": [
      "Hello\n"
     ]
    }
   ],
   "source": [
    "print(\"\\u0048\\u0065\\u006c\\u006c\\u006f\")  # Unicode for \"Hello\"\n",
    "# Output: Hello\n"
   ]
  },
  {
   "cell_type": "markdown",
   "metadata": {},
   "source": [
    "\\UXXXXXXXX: Unicode character (8-digit)\n",
    "\n",
    "A similar to \\uXXXX, but used for characters that require 8 digits."
   ]
  },
  {
   "cell_type": "code",
   "execution_count": null,
   "metadata": {},
   "outputs": [
    {
     "name": "stdout",
     "output_type": "stream",
     "text": [
      "😀\n"
     ]
    }
   ],
   "source": [
    "print(\"\\U0001F600\")  # Unicode for 😀 (Grinning Face emoji)\n",
    "# Output: 😀\n"
   ]
  },
  {
   "cell_type": "markdown",
   "metadata": {},
   "source": [
    "These escape sequences are useful when working with strings that contain special characters\n",
    " or when formatting text for output."
   ]
  },
  {
   "cell_type": "markdown",
   "metadata": {},
   "source": []
  },
  {
   "cell_type": "markdown",
   "metadata": {},
   "source": [
    "f-Strings :\n",
    "\n",
    "In Python, f-strings (formatted string literals) provide a concise and efficient way to embed\n",
    "\n",
    "expressions inside string literals. They were introduced in Python 3.6 and are denoted by\n",
    " \n",
    "placing an f or F before the opening quote of the string, followed by curly braces {}\n",
    "\n",
    "containing expressions."
   ]
  },
  {
   "cell_type": "markdown",
   "metadata": {},
   "source": [
    "Basic Syntax:"
   ]
  },
  {
   "cell_type": "code",
   "execution_count": 90,
   "metadata": {},
   "outputs": [
    {
     "name": "stdout",
     "output_type": "stream",
     "text": [
      "Hello, my name is John and I am 30 years old.\n"
     ]
    }
   ],
   "source": [
    "name = \"John\"\n",
    "age = 30\n",
    "greeting = f\"Hello, my name is {name} and I am {age} years old.\"\n",
    "print(greeting)\n",
    "# Output: Hello, my name is John and I am 30 years old.\n"
   ]
  },
  {
   "cell_type": "markdown",
   "metadata": {},
   "source": [
    "In this example, the name and age variables are inserted into the string using {} within the \n",
    "\n",
    "f\"\" string literal."
   ]
  },
  {
   "cell_type": "markdown",
   "metadata": {},
   "source": [
    "Key Features of f-strings:\n",
    "\n",
    "\n",
    "Expression Evaluation:\n",
    "\n",
    "You can include any valid Python expression inside the curly braces, and it will be evaluated\n",
    "\n",
    "at runtime."
   ]
  },
  {
   "cell_type": "code",
   "execution_count": 91,
   "metadata": {},
   "outputs": [
    {
     "name": "stdout",
     "output_type": "stream",
     "text": [
      "The sum of x and y is 15.\n"
     ]
    }
   ],
   "source": [
    "x = 5\n",
    "y = 10\n",
    "result = f\"The sum of x and y is {x + y}.\"\n",
    "print(result)\n",
    "# Output: The sum of x and y is 15.\n"
   ]
  },
  {
   "cell_type": "markdown",
   "metadata": {},
   "source": [
    "Variable Substitution:\n",
    "\n",
    "f-strings automatically replace the variable names with their values."
   ]
  },
  {
   "cell_type": "code",
   "execution_count": 92,
   "metadata": {},
   "outputs": [
    {
     "name": "stdout",
     "output_type": "stream",
     "text": [
      "alice scored 95 in the exam.\n"
     ]
    }
   ],
   "source": [
    "username = \"alice\"\n",
    "score = 95\n",
    "message = f\"{username} scored {score} in the exam.\"\n",
    "print(message)\n",
    "# Output: alice scored 95 in the exam.\n"
   ]
  },
  {
   "cell_type": "markdown",
   "metadata": {},
   "source": [
    "Calling Functions inside f-strings:\n",
    "\n",
    "You can call functions inside the curly braces."
   ]
  },
  {
   "cell_type": "code",
   "execution_count": 93,
   "metadata": {},
   "outputs": [
    {
     "name": "stdout",
     "output_type": "stream",
     "text": [
      "The double of 7 is 14.\n"
     ]
    }
   ],
   "source": [
    "def double(n):\n",
    "    return n * 2\n",
    "\n",
    "number = 7\n",
    "result = f\"The double of {number} is {double(number)}.\"\n",
    "print(result)\n",
    "# Output: The double of 7 is 14.\n"
   ]
  },
  {
   "cell_type": "markdown",
   "metadata": {},
   "source": [
    "Formatting Numbers:\n",
    "\n",
    "f-strings allow you to format numbers easily, such as controlling decimal places, padding, and more."
   ]
  },
  {
   "cell_type": "code",
   "execution_count": 94,
   "metadata": {},
   "outputs": [
    {
     "name": "stdout",
     "output_type": "stream",
     "text": [
      "Value of pi up to 2 decimal places: 3.14\n"
     ]
    }
   ],
   "source": [
    "pi = 3.141592653589793\n",
    "formatted = f\"Value of pi up to 2 decimal places: {pi:.2f}\"\n",
    "print(formatted)\n",
    "# Output: Value of pi up to 2 decimal places: 3.14\n"
   ]
  },
  {
   "cell_type": "markdown",
   "metadata": {},
   "source": [
    "Using !r for Repr:\n",
    "\n",
    "You can use the !r format specifier to get the repr() of an object, which shows the string \n",
    "\n",
    "representation of the object (useful for debugging).In this example, :.2f formats the \n",
    "\n",
    "floating-point number to two decimal places."
   ]
  },
  {
   "cell_type": "code",
   "execution_count": 95,
   "metadata": {},
   "outputs": [
    {
     "name": "stdout",
     "output_type": "stream",
     "text": [
      "The list is: [1, 2, 3]\n"
     ]
    }
   ],
   "source": [
    "my_list = [1, 2, 3]\n",
    "print(f\"The list is: {my_list!r}\")\n",
    "# Output: The list is: [1, 2, 3]\n"
   ]
  },
  {
   "cell_type": "markdown",
   "metadata": {},
   "source": [
    "Using !s for Str:\n",
    "\n",
    "You can also explicitly convert a value to a string using the !s specifier."
   ]
  },
  {
   "cell_type": "code",
   "execution_count": 96,
   "metadata": {},
   "outputs": [
    {
     "name": "stdout",
     "output_type": "stream",
     "text": [
      "The value as string: 42\n"
     ]
    }
   ],
   "source": [
    "value = 42\n",
    "print(f\"The value as string: {value!s}\")\n",
    "# Output: The value as string: 42\n"
   ]
  },
  {
   "cell_type": "markdown",
   "metadata": {},
   "source": [
    "f-string Advantages:\n",
    "\n",
    "\n",
    "Concise and Readable: f-strings make string interpolation more readable and less error-prone compared to other methods like % formatting or str.format().\n",
    "\n",
    "Performance: f-strings are faster than the str.format() method because they evaluate expressions directly at runtime, rather than parsing and handling additional method calls.\n",
    "\n",
    "More Flexible: f-strings allow you to embed complex expressions and function calls directly inside the string."
   ]
  },
  {
   "cell_type": "markdown",
   "metadata": {},
   "source": []
  },
  {
   "cell_type": "markdown",
   "metadata": {},
   "source": [
    " r-string :\n",
    "\n",
    " In Python, an r-string (or raw string) is a string prefixed with an r or R (e.g., r\"string\" or R\"string\"). The primary feature of raw strings is that they treat backslashes (\\) as literal characters, meaning that they do not escape any characters following the backslash.\n",
    "\n",
    "This is useful when working with strings that contain backslashes, such as regular expressions, file paths, or Windows paths, where you don't want to manually escape each backslash.\n",
    "\n",
    "Basic Syntax of r-string:"
   ]
  },
  {
   "cell_type": "code",
   "execution_count": 97,
   "metadata": {},
   "outputs": [
    {
     "name": "stdout",
     "output_type": "stream",
     "text": [
      "This is a raw string: C:\\Users\\Name\n"
     ]
    }
   ],
   "source": [
    "raw_string = r\"This is a raw string: C:\\Users\\Name\"\n",
    "print(raw_string)\n",
    "# Output: This is a raw string: C:\\Users\\Name\n"
   ]
  },
  {
   "cell_type": "markdown",
   "metadata": {},
   "source": [
    "In this example, the raw string treats the backslashes \\ as literal characters, so you don't\n",
    "\n",
    "need to escape them as you would in a normal string."
   ]
  },
  {
   "cell_type": "markdown",
   "metadata": {},
   "source": [
    "Key Features of r-strings:\n",
    "\n",
    "No Escape Sequences: In a raw string, escape sequences like \\n, \\t, \\r, \\\\, etc., are not processed. They are treated as regular characters in the string."
   ]
  },
  {
   "cell_type": "code",
   "execution_count": 98,
   "metadata": {},
   "outputs": [
    {
     "name": "stdout",
     "output_type": "stream",
     "text": [
      "This is a newline\n",
      "Second line\n",
      "This is a raw string\\nSecond line\n"
     ]
    }
   ],
   "source": [
    "normal_string = \"This is a newline\\nSecond line\"\n",
    "raw_string = r\"This is a raw string\\nSecond line\"\n",
    "\n",
    "print(normal_string)\n",
    "# Output:\n",
    "# This is a newline\n",
    "# Second line\n",
    "\n",
    "print(raw_string)\n",
    "# Output: This is a raw string\\nSecond line\n"
   ]
  },
  {
   "cell_type": "markdown",
   "metadata": {},
   "source": [
    "In the normal_string, the \\n is treated as a newline character. But in the raw_string, \\n is \n",
    "\n",
    "treated as two separate characters (\\ and n), not a special escape sequence."
   ]
  },
  {
   "cell_type": "markdown",
   "metadata": {},
   "source": [
    "Useful for Regular Expressions: Regular expressions (regex) in Python often contain \n",
    "\n",
    "backslashes, so raw strings are especially useful in this case to avoid escaping backslashes."
   ]
  },
  {
   "cell_type": "code",
   "execution_count": 99,
   "metadata": {},
   "outputs": [
    {
     "name": "stdout",
     "output_type": "stream",
     "text": [
      "123\n"
     ]
    }
   ],
   "source": [
    "import re\n",
    "\n",
    "pattern = r\"\\d+\"  # Matches one or more digits\n",
    "text = \"There are 123 apples.\"\n",
    "match = re.search(pattern, text)\n",
    "\n",
    "if match:\n",
    "    print(match.group())\n",
    "# Output: 123\n"
   ]
  },
  {
   "cell_type": "markdown",
   "metadata": {},
   "source": [
    "Without using a raw string, you would have to double the backslashes, like \"\\\\d+\", which is less readable."
   ]
  },
  {
   "cell_type": "markdown",
   "metadata": {},
   "source": [
    "File Paths (Windows): In Windows file paths, backslashes are used to separate directories, so raw strings prevent the need to escape each backslash."
   ]
  },
  {
   "cell_type": "code",
   "execution_count": 100,
   "metadata": {},
   "outputs": [
    {
     "name": "stdout",
     "output_type": "stream",
     "text": [
      "C:\\Users\\Name\\Documents\\file.txt\n"
     ]
    }
   ],
   "source": [
    "file_path = r\"C:\\Users\\Name\\Documents\\file.txt\"\n",
    "print(file_path)\n",
    "# Output: C:\\Users\\Name\\Documents\\file.txt\n"
   ]
  },
  {
   "cell_type": "markdown",
   "metadata": {},
   "source": [
    "If this were a regular string, you would need to write the path as \n",
    "\n",
    "\"C:\\\\Users\\\\Name\\\\Documents\\\\file.txt\"."
   ]
  },
  {
   "cell_type": "markdown",
   "metadata": {},
   "source": [
    "Ending with a Single Backslash: One important thing to note is that raw strings cannot end \n",
    "\n",
    "with a single backslash (\\). If you try to do that, Python will raise a SyntaxError because \n",
    "\n",
    "the backslash is considered an escape character for the closing quote. For example:"
   ]
  },
  {
   "cell_type": "code",
   "execution_count": 101,
   "metadata": {},
   "outputs": [
    {
     "ename": "SyntaxError",
     "evalue": "EOL while scanning string literal (321685704.py, line 2)",
     "output_type": "error",
     "traceback": [
      "\u001b[1;36m  File \u001b[1;32m\"C:\\Users\\Pankaj\\AppData\\Local\\Temp\\ipykernel_16124\\321685704.py\"\u001b[1;36m, line \u001b[1;32m2\u001b[0m\n\u001b[1;33m    invalid_raw_string = r\"Some path here\\\"\u001b[0m\n\u001b[1;37m                                           ^\u001b[0m\n\u001b[1;31mSyntaxError\u001b[0m\u001b[1;31m:\u001b[0m EOL while scanning string literal\n"
     ]
    }
   ],
   "source": [
    "# This will cause a SyntaxError:\n",
    "invalid_raw_string = r\"Some path here\\\""
   ]
  },
  {
   "cell_type": "markdown",
   "metadata": {},
   "source": [
    "To avoid this, you would need to escape the backslash like this:"
   ]
  },
  {
   "cell_type": "code",
   "execution_count": 102,
   "metadata": {},
   "outputs": [],
   "source": [
    "valid_raw_string = r\"Some path here\\\\\""
   ]
  },
  {
   "cell_type": "markdown",
   "metadata": {},
   "source": [
    "Example Usage:\n",
    "\n",
    "1. Using r-strings for Regular Expressions:"
   ]
  },
  {
   "cell_type": "code",
   "execution_count": 103,
   "metadata": {},
   "outputs": [
    {
     "name": "stdout",
     "output_type": "stream",
     "text": [
      "['Hello', 'world']\n"
     ]
    }
   ],
   "source": [
    "import re\n",
    "pattern = r\"\\b\\w+\\b\"  # Word boundary and words\n",
    "text = \"Hello, world!\"\n",
    "words = re.findall(pattern, text)\n",
    "print(words)\n",
    "# Output: ['Hello', 'world']\n"
   ]
  },
  {
   "cell_type": "markdown",
   "metadata": {},
   "source": [
    "2. Using r-strings for File Paths:"
   ]
  },
  {
   "cell_type": "code",
   "execution_count": 105,
   "metadata": {},
   "outputs": [
    {
     "name": "stdout",
     "output_type": "stream",
     "text": [
      "C:\\Program Files\\MyApp\\file.txt\n"
     ]
    }
   ],
   "source": [
    "file_path = r\"C:\\Program Files\\MyApp\\file.txt\"\n",
    "print(file_path)\n",
    "# Output: C:\\Program Files\\MyApp\\file.txt\n"
   ]
  },
  {
   "cell_type": "markdown",
   "metadata": {},
   "source": [
    "r-strings are particularly useful when you need to work with strings that contain backslashes and you don't want Python to treat them as escape sequences. They're commonly used in regular expressions, file paths, and when working with raw string data that includes backslashes."
   ]
  }
 ],
 "metadata": {
  "kernelspec": {
   "display_name": "Python 3",
   "language": "python",
   "name": "python3"
  },
  "language_info": {
   "codemirror_mode": {
    "name": "ipython",
    "version": 3
   },
   "file_extension": ".py",
   "mimetype": "text/x-python",
   "name": "python",
   "nbconvert_exporter": "python",
   "pygments_lexer": "ipython3",
   "version": "3.7.8"
  }
 },
 "nbformat": 4,
 "nbformat_minor": 2
}
